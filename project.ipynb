{
 "cells": [
  {
   "attachments": {},
   "cell_type": "markdown",
   "metadata": {},
   "source": [
    "# Test Your Character:\n"
   ]
  },
  {
   "attachments": {},
   "cell_type": "markdown",
   "metadata": {},
   "source": [
    "## [Project docs link](https://docs.google.com/document/d/1VEjpm87ZQ4IOisc45fZ3ZLEox_mNw7QuyL3YgkbJ6UU/edit#)"
   ]
  },
  {
   "attachments": {},
   "cell_type": "markdown",
   "metadata": {},
   "source": [
    "![alt text](Actors.drawio.png \"Title\")"
   ]
  },
  {
   "cell_type": "code",
   "execution_count": 1,
   "metadata": {},
   "outputs": [],
   "source": [
    "from experta import *"
   ]
  },
  {
   "cell_type": "code",
   "execution_count": 3,
   "metadata": {},
   "outputs": [],
   "source": [
    "class KBS(KnowledgeEngine):\n",
    "    def printAndHalt(self,message):\n",
    "        print(message)\n",
    "        self.halt()\n",
    "\n",
    "    @Rule(NOT(Fact(action=W())))\n",
    "    def isAction(self):\n",
    "        self.declare(Fact(action=input(\"Is most his/here rols are action?\")))\n",
    "    \n",
    "    @Rule(Fact(action=\"y\"),NOT(Fact(comedy=W())))\n",
    "    def isComedy(self):\n",
    "        self.declare(Fact(comedy=input(\"Does he/she act some comedian roles?\")))\n",
    "    \n",
    "    @Rule(Fact(comedy=\"y\"),NOT(Fact(bold=W())))\n",
    "    def isBold(self):\n",
    "        self.declare(Fact(bold=input(\"is he/she bold?\")))\n",
    "\n",
    "    @Rule(Fact(bold=\"y\"),NOT(Fact(muscles=W())))\n",
    "    def isMuscular(self):\n",
    "        self.declare(Fact(muscles=input(\"is he/she muscular?\")))\n",
    "    \n",
    "    @Rule(Fact(muscles=\"y\"))\n",
    "    def isRock(self):\n",
    "        self.printAndHalt(\"He's Dwayne Johnson aka The Rock\")\n",
    "\n",
    "    @Rule(Fact(muscles=\"n\"))\n",
    "    def isStatham(self):\n",
    "        self.printAndHalt(\"He's Jason Statham\")\n",
    "\n",
    "    @Rule(Fact(bold=\"n\"),NOT(Fact(asian=W())))\n",
    "    def isAsian(self):\n",
    "        self.declare(Fact(asian=input(\"is he/she asian?\")))\n",
    "\n",
    "    @Rule(Fact(asian=\"y\"))\n",
    "    def isChan(self):\n",
    "        self.printAndHalt(\"He's Jackie Chan\")\n",
    "\n",
    "    @Rule(Fact(asian=\"n\"))\n",
    "    def isNiro(self):\n",
    "        self.printAndHalt(\"He's Robert De Niro\")\n",
    "    \n",
    "    @Rule(Fact(comedy=\"n\"),NOT(Fact(muscles2=W())))\n",
    "    def isMuscular2(self):\n",
    "        self.declare(Fact(muscles2=input(\"is he/she muscular?\")))\n",
    "\n",
    "    @Rule(Fact(muscles2=\"y\"),NOT(Fact(WWE=W())))\n",
    "    def isWWE(self):\n",
    "        self.declare(Fact(WWE=input(\"Did he/she performe in WWE?\")))\n",
    "\n",
    "    @Rule(Fact(WWE=\"y\"))\n",
    "    def isCena(self):\n",
    "        self.printAndHalt(\"He's John Cena\")\n",
    "    \n",
    "    @Rule(Fact(WWE=\"n\"))\n",
    "    def isStallone(self):\n",
    "        self.printAndHalt(\"He's Sylvester Stallone\")\n",
    "    \n",
    "    @Rule(Fact(muscles2=\"n\"),NOT(Fact(short=W())))\n",
    "    def isShort(self):\n",
    "        self.declare(Fact(short=input(\"is he/she short?\")))\n",
    "\n",
    "    @Rule(Fact(short=\"y\"))\n",
    "    def isPescie(self):\n",
    "        self.printAndHalt(\"He's Joe Pesci\")\n",
    "    \n",
    "    @Rule(Fact(short=\"y\"))\n",
    "    def isPacino(self):\n",
    "        self.printAndHalt(\"He's Alfredo Pacino\")\n",
    "    \n",
    "    @Rule(Fact(action=\"n\"),NOT(Fact(arabic=W())))\n",
    "    def isArabic(self):\n",
    "        self.declare(Fact(arabic=input(\"is he/she arabic or has arabic origins?\")))\n",
    "    \n",
    "    @Rule(Fact(arabic=\"y\"),NOT(Fact(egypt=W())))\n",
    "    def isEgypt(self):\n",
    "        self.declare(Fact(egypt=input(\"is he/she egyptian?\")))\n",
    "    \n",
    "    @Rule(Fact(egypt=\"y\"),NOT(Fact(bold2=W())))\n",
    "    def isBold2(self):\n",
    "        self.declare(Fact(bold2=input(\"is he/she bold?\")))    \n",
    "    \n",
    "    @Rule(Fact(bold2=\"y\"))\n",
    "    def isHenedi(self):\n",
    "        self.printAndHalt(\"He's Mohamed Henedi\")\n",
    "    \n",
    "    @Rule(Fact(bold2=\"n\"))\n",
    "    def isHelmy(self):\n",
    "        self.printAndHalt(\"He's Ahmed Helmy\")\n",
    "    \n",
    "    @Rule(Fact(egypt=\"n\"),NOT(Fact(wig=W())))\n",
    "    def isWig(self):\n",
    "        self.declare(Fact(wig=input(\"Does he/she wear wig?\")))    \n",
    "    \n",
    "    @Rule(Fact(wig=\"y\"))\n",
    "    def isAzmeh(self):\n",
    "        self.printAndHalt(\"He's Yasser Al-Azmeh\")\n",
    "    \n",
    "    @Rule(Fact(wig=\"n\"))\n",
    "    def isLahham(self):\n",
    "        self.printAndHalt(\"He's Duraid Lahham\")\n",
    "    \n",
    "    @Rule(Fact(arabic=\"n\"),NOT(Fact(director=W())))\n",
    "    def isDirector(self):\n",
    "        self.declare(Fact(director=input(\"Did he/she directe any movies?\")))\n",
    "    \n",
    "    @Rule(Fact(director=\"y\"),NOT(Fact(comedy2=W())))\n",
    "    def isComedy2(self):\n",
    "        self.declare(Fact(comedy2=input(\"Does he/she act some comedian roles?\")))\n",
    "    \n",
    "    @Rule(Fact(comedy2=\"y\"))\n",
    "    def isBurnham(self):\n",
    "        self.printAndHalt(\"He's Robert Pickering (Bo) Burnham\")\n",
    "    \n",
    "    @Rule(Fact(comedy2=\"n\"))\n",
    "    def isHarrison(self):\n",
    "        self.printAndHalt(\"He's Edward Harrison\")\n",
    "    \n",
    "\n",
    "    @Rule(Fact(director=\"n\"),NOT(Fact(drama=W())))\n",
    "    def isDrama(self):\n",
    "        self.declare(Fact(drama=input(\"Does he/she act some drama roles?\")))\n",
    "    \n",
    "    @Rule(Fact(drama=\"y\"))\n",
    "    def isDepp(self):\n",
    "        self.printAndHalt(\"He's John Christopher Depp\")\n",
    "    \n",
    "    @Rule(Fact(drama=\"n\"))\n",
    "    def isCarrey(self):\n",
    "        self.printAndHalt(\"He's Jim Carrey\")\n",
    "    \n",
    "\n",
    "    # Test modifiers for rules\n",
    "    \n"
   ]
  },
  {
   "cell_type": "code",
   "execution_count": 4,
   "metadata": {},
   "outputs": [
    {
     "name": "stdout",
     "output_type": "stream",
     "text": [
      "hell\n"
     ]
    }
   ],
   "source": [
    "t = KBS()\n",
    "t.reset()\n",
    "t.run()"
   ]
  }
 ],
 "metadata": {
  "kernelspec": {
   "display_name": "Python 3",
   "language": "python",
   "name": "python3"
  },
  "language_info": {
   "codemirror_mode": {
    "name": "ipython",
    "version": 3
   },
   "file_extension": ".py",
   "mimetype": "text/x-python",
   "name": "python",
   "nbconvert_exporter": "python",
   "pygments_lexer": "ipython3",
   "version": "3.8.10"
  },
  "orig_nbformat": 4
 },
 "nbformat": 4,
 "nbformat_minor": 2
}
